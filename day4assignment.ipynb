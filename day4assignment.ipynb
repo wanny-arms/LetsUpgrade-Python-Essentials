{
  "nbformat": 4,
  "nbformat_minor": 0,
  "metadata": {
    "colab": {
      "name": "Untitled2.ipynb",
      "provenance": [],
      "collapsed_sections": [],
      "authorship_tag": "ABX9TyPWWAdOhfMsDlM7c9v4cssR",
      "include_colab_link": true
    },
    "kernelspec": {
      "name": "python3",
      "display_name": "Python 3"
    }
  },
  "cells": [
    {
      "cell_type": "markdown",
      "metadata": {
        "id": "view-in-github",
        "colab_type": "text"
      },
      "source": [
        "<a href=\"https://colab.research.google.com/github/wanny-arms/LetsUpgrade-Python-Essentials/blob/master/day4assignment.ipynb\" target=\"_parent\"><img src=\"https://colab.research.google.com/assets/colab-badge.svg\" alt=\"Open In Colab\"/></a>"
      ]
    },
    {
      "cell_type": "markdown",
      "metadata": {
        "id": "iXy3dgcNLSYh",
        "colab_type": "text"
      },
      "source": [
        "**Question 1:** \n",
        "Print the first ArmStrong number in the range of 1042000 to 702648265 and exit the loop as soon\n",
        "as you encounter the first armstrong number.\n",
        "Use while loop\n",
        "\n",
        "Output-\n",
        "The first armstrong number is -----------"
      ]
    },
    {
      "cell_type": "code",
      "metadata": {
        "id": "OjWvXRrxTvor",
        "colab_type": "code",
        "colab": {
          "base_uri": "https://localhost:8080/",
          "height": 340
        },
        "outputId": "3c91ee3d-921b-4425-d328-0abe6f80207b"
      },
      "source": [
        "a = 1042000\n",
        "b = 702648265\n",
        "for num in range(a,b+1):\n",
        "  order = len(str(num))\n",
        "  sum=0\n",
        "  f = num\n",
        "  while(f>0):\n",
        "      digit = f%10\n",
        "      sum += digit ** order\n",
        "      f //= 10\n",
        "      if (num == sum):\n",
        "             print(num)"
      ],
      "execution_count": null,
      "outputs": [
        {
          "output_type": "stream",
          "text": [
            "1741725\n",
            "2097280\n",
            "2097281\n",
            "3278756\n",
            "4210818\n",
            "4782969\n",
            "4861095\n",
            "9800817\n",
            "9926315\n",
            "16790338\n",
            "16790338\n",
            "21816066\n",
            "24678050\n",
            "24678051\n",
            "26682755\n",
            "88593477\n",
            "134217728\n",
            "146511208\n",
            "178477585\n"
          ],
          "name": "stdout"
        }
      ]
    }
  ]
}