{
  "nbformat": 4,
  "nbformat_minor": 0,
  "metadata": {
    "colab": {
      "name": "Untitled4.ipynb",
      "provenance": [],
      "collapsed_sections": [],
      "authorship_tag": "ABX9TyOT1n67oHAkrllEmiLEbN7X",
      "include_colab_link": true
    },
    "kernelspec": {
      "name": "python3",
      "display_name": "Python 3"
    }
  },
  "cells": [
    {
      "cell_type": "markdown",
      "metadata": {
        "id": "view-in-github",
        "colab_type": "text"
      },
      "source": [
        "<a href=\"https://colab.research.google.com/github/wanny-arms/LetsUpgrade-Python-Essentials/blob/master/day6assignment.ipynb\" target=\"_parent\"><img src=\"https://colab.research.google.com/assets/colab-badge.svg\" alt=\"Open In Colab\"/></a>"
      ]
    },
    {
      "cell_type": "markdown",
      "metadata": {
        "id": "4CuELPi1CU9v",
        "colab_type": "text"
      },
      "source": [
        "**Question 1:**\n",
        "For this challenge,create a bank account class that has two attributes\n",
        "\n",
        "*ownerName\n",
        "\n",
        "*Balance\n",
        "\n",
        "And two methods\n",
        "\n",
        "*deposit\n",
        "\n",
        "*withdraw\n",
        "\n",
        "As an added requirement,withdrawals may not exceed the available balance.\n",
        "Instantiate your class,make several deposits and withdrawals,and test to make sure the account\n",
        "can't be overdrawn."
      ]
    },
    {
      "cell_type": "code",
      "metadata": {
        "id": "v52E93P5CRje",
        "colab_type": "code",
        "colab": {
          "base_uri": "https://localhost:8080/",
          "height": 170
        },
        "outputId": "7d4e98a0-e466-4407-cf78-7bb25ab52799"
      },
      "source": [
        "class Bank_Account: \n",
        "    def __init__(self): \n",
        "        self.balance=0\n",
        "        print(\"Hello!!! Welcome to the Deposit & Withdrawal Machine\") \n",
        "  \n",
        "    def deposit(self): \n",
        "        amount=float(input(\"Enter amount to be Deposited: \")) \n",
        "        self.balance += amount \n",
        "        print(\"\\n Amount Deposited:\",amount) \n",
        "  \n",
        "    def withdraw(self): \n",
        "        amount = float(input(\"Enter amount to be Withdrawn: \")) \n",
        "        if self.balance>=amount: \n",
        "            self.balance-=amount \n",
        "            print(\"\\n You Withdrew:\", amount) \n",
        "        else: \n",
        "            print(\"\\n Insufficient balance  \") \n",
        "  \n",
        "    def display(self): \n",
        "        print(\"\\n Net Available Balance=\",self.balance) \n",
        "   \n",
        "# creating an object of class \n",
        "s = Bank_Account() \n",
        "   \n",
        "# Calling functions with that class object \n",
        "s.deposit() \n",
        "s.withdraw() \n",
        "s.display()"
      ],
      "execution_count": 1,
      "outputs": [
        {
          "output_type": "stream",
          "text": [
            "Hello!!! Welcome to the Deposit & Withdrawal Machine\n",
            "Enter amount to be Deposited: 1000\n",
            "\n",
            " Amount Deposited: 1000.0\n",
            "Enter amount to be Withdrawn: 200\n",
            "\n",
            " You Withdrew: 200.0\n",
            "\n",
            " Net Available Balance= 800.0\n"
          ],
          "name": "stdout"
        }
      ]
    },
    {
      "cell_type": "markdown",
      "metadata": {
        "id": "tV74V3CrHksn",
        "colab_type": "text"
      },
      "source": [
        "**Question 2:**\n",
        "For this challenge,create a cone class that has two attributes:\n",
        "\n",
        "*R=Radius\n",
        "\n",
        "*h=Height\n",
        "\n",
        "And two methods:\n",
        "\n",
        "*Volume = Π * r2 = (h/3)\n",
        "\n",
        "*Surface area : base : Π * r2 , side : Π * r * √(r2 + h2)\n",
        "\n",
        "Make only one class with functions,as in where required import Math."
      ]
    },
    {
      "cell_type": "code",
      "metadata": {
        "id": "QXeIs_bFH8IP",
        "colab_type": "code",
        "colab": {
          "base_uri": "https://localhost:8080/",
          "height": 51
        },
        "outputId": "cc34792d-54bb-4e13-cafd-55a7f983f6fe"
      },
      "source": [
        "# Importing Math library for value Of PI \n",
        "import math \n",
        "pi = math.pi \n",
        "  \n",
        "# Function to calculate Volume of Cone \n",
        "def volume(r, h): \n",
        "    return (1 / 3) * pi * r * r * h \n",
        "  \n",
        "# Function To Calculate Surface Area of Cone \n",
        "def surfacearea(r, s): \n",
        "    return pi * r * s + pi * r * r \n",
        "  \n",
        "# Driver Code \n",
        "radius = float(5) \n",
        "height = float(12) \n",
        "slat_height = float(13) \n",
        "print( \"Volume Of Cone : \", volume(radius, height) ) \n",
        "print( \"Surface Area Of Cone : \", surfacearea(radius, slat_height) ) "
      ],
      "execution_count": 2,
      "outputs": [
        {
          "output_type": "stream",
          "text": [
            "Volume Of Cone :  314.15926535897927\n",
            "Surface Area Of Cone :  282.7433388230814\n"
          ],
          "name": "stdout"
        }
      ]
    }
  ]
}