{
  "nbformat": 4,
  "nbformat_minor": 0,
  "metadata": {
    "colab": {
      "name": "Untitled1.ipynb",
      "provenance": [],
      "collapsed_sections": [],
      "authorship_tag": "ABX9TyMIKU+Z3HJ0DjIogBI+zYwv",
      "include_colab_link": true
    },
    "kernelspec": {
      "name": "python3",
      "display_name": "Python 3"
    }
  },
  "cells": [
    {
      "cell_type": "markdown",
      "metadata": {
        "id": "view-in-github",
        "colab_type": "text"
      },
      "source": [
        "<a href=\"https://colab.research.google.com/github/wanny-arms/LetsUpgrade-Python-Essentials/blob/master/day3assignment.ipynb\" target=\"_parent\"><img src=\"https://colab.research.google.com/assets/colab-badge.svg\" alt=\"Open In Colab\"/></a>"
      ]
    },
    {
      "cell_type": "markdown",
      "metadata": {
        "id": "6mqyi-GK1qP3",
        "colab_type": "text"
      },
      "source": [
        "**Question1:** You all are Pilots, you want to land a plane safely, so altitude required for landing a plane is\n",
        "1000ft, it it is less than tell pilot to land the plane, or it is more than that but less than 5000ft ask\n",
        "the pilot to “come down to 1000ft”, else if it more than 5000ft ask the pilot to “go around and try\n",
        "later”\n",
        "Example : Input - 1000\n",
        "Output - Safe to Land\n",
        "Example : Input - 4500\n",
        "Output - Bring down to 1000\n",
        "Example : Input - 6500\n",
        "Output - Turn Around"
      ]
    },
    {
      "cell_type": "code",
      "metadata": {
        "id": "by3rX20a1gQl",
        "colab_type": "code",
        "colab": {
          "base_uri": "https://localhost:8080/",
          "height": 51
        },
        "outputId": "518824e5-b077-4279-a997-a521800043f7"
      },
      "source": [
        "num = int(input(\"Enter the value of altitude their you are now exist : \"))\n",
        "\n",
        "if num < 1000:\n",
        "  print(\"Land the plane\")\n",
        "elif num <= 5000:\n",
        "    print(\"Come down to 1000 ft.\")\n",
        "else:\n",
        "      print(\"Go around and try later\")"
      ],
      "execution_count": 5,
      "outputs": [
        {
          "output_type": "stream",
          "text": [
            "Enter the value of altitude their you are now exist : 109\n",
            "Land the plane\n"
          ],
          "name": "stdout"
        }
      ]
    },
    {
      "cell_type": "markdown",
      "metadata": {
        "id": "KHgpYvks1nkH",
        "colab_type": "text"
      },
      "source": [
        "**Question 2:**\n",
        "Using for loop please print all the prime numbers between 1- 200 using FOR LOOP AND RANGE\n",
        "function.\n",
        "Output-\n",
        "2,3,5,7….."
      ]
    },
    {
      "cell_type": "code",
      "metadata": {
        "id": "fXwVj4ax_Qj-",
        "colab_type": "code",
        "colab": {
          "base_uri": "https://localhost:8080/",
          "height": 816
        },
        "outputId": "5433dff0-d87e-43dd-ca4e-8eb8137869ce"
      },
      "source": [
        "a = 1\n",
        "b = 200\n",
        "  \n",
        "for i in range(a,b): \n",
        "    for j in range(2,i): \n",
        "        if(i % j==0): \n",
        "            break\n",
        "    else: \n",
        "        print(i)"
      ],
      "execution_count": 6,
      "outputs": [
        {
          "output_type": "stream",
          "text": [
            "1\n",
            "2\n",
            "3\n",
            "5\n",
            "7\n",
            "11\n",
            "13\n",
            "17\n",
            "19\n",
            "23\n",
            "29\n",
            "31\n",
            "37\n",
            "41\n",
            "43\n",
            "47\n",
            "53\n",
            "59\n",
            "61\n",
            "67\n",
            "71\n",
            "73\n",
            "79\n",
            "83\n",
            "89\n",
            "97\n",
            "101\n",
            "103\n",
            "107\n",
            "109\n",
            "113\n",
            "127\n",
            "131\n",
            "137\n",
            "139\n",
            "149\n",
            "151\n",
            "157\n",
            "163\n",
            "167\n",
            "173\n",
            "179\n",
            "181\n",
            "191\n",
            "193\n",
            "197\n",
            "199\n"
          ],
          "name": "stdout"
        }
      ]
    }
  ]
}