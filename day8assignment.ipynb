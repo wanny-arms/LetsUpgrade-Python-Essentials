{
  "nbformat": 4,
  "nbformat_minor": 0,
  "metadata": {
    "colab": {
      "name": "Untitled7.ipynb",
      "provenance": [],
      "authorship_tag": "ABX9TyMBsIbuh2ANDCmGl7NT9ool",
      "include_colab_link": true
    },
    "kernelspec": {
      "name": "python3",
      "display_name": "Python 3"
    }
  },
  "cells": [
    {
      "cell_type": "markdown",
      "metadata": {
        "id": "view-in-github",
        "colab_type": "text"
      },
      "source": [
        "<a href=\"https://colab.research.google.com/github/wanny-arms/LetsUpgrade-Python-Essentials/blob/master/day8assignment.ipynb\" target=\"_parent\"><img src=\"https://colab.research.google.com/assets/colab-badge.svg\" alt=\"Open In Colab\"/></a>"
      ]
    },
    {
      "cell_type": "markdown",
      "metadata": {
        "id": "13c7pluzP-Nw",
        "colab_type": "text"
      },
      "source": [
        "**Question 1:**\n",
        "Write a decorator function for your taking input for you any kind of function you want to build,\n",
        "\n",
        "For example - You make a fibonacci series function,in which your input range is been defined by\n",
        "the decorator program input."
      ]
    },
    {
      "cell_type": "code",
      "metadata": {
        "id": "9zHp1KBtP_A9",
        "colab_type": "code",
        "colab": {
          "base_uri": "https://localhost:8080/",
          "height": 34
        },
        "outputId": "0679953e-3cb9-4a0a-f96c-24c2c90f267a"
      },
      "source": [
        "class Fibonacci:\n",
        "\n",
        "    def __init__(self):\n",
        "        self.cache = {}\n",
        "\n",
        "    def __call__(self, n):\n",
        "        if n not in self.cache:\n",
        "            if n == 0:\n",
        "                self.cache[0] = 0\n",
        "            elif n == 1:\n",
        "                self.cache[1] = 1\n",
        "            else:\n",
        "                self.cache[n] = self.__call__(n-1) + self.__call__(n-2)\n",
        "        return self.cache[n]\n",
        "\n",
        "fib = Fibonacci()\n",
        "\n",
        "for i in range(15):\n",
        "    print(fib(i), end=\", \")"
      ],
      "execution_count": 2,
      "outputs": [
        {
          "output_type": "stream",
          "text": [
            "0, 1, 1, 2, 3, 5, 8, 13, 21, 34, 55, 89, 144, 233, 377, "
          ],
          "name": "stdout"
        }
      ]
    },
    {
      "cell_type": "markdown",
      "metadata": {
        "id": "Hg_bGxiEN_Pr",
        "colab_type": "text"
      },
      "source": [
        "**Question 2:**\n",
        "For this challenge you need to develop a Python program to open a file in read only mode and try\n",
        "writing something to it and handle the subsequent errors using Exception Handling."
      ]
    },
    {
      "cell_type": "code",
      "metadata": {
        "id": "_g9IAuMLMz1Q",
        "colab_type": "code",
        "colab": {
          "base_uri": "https://localhost:8080/",
          "height": 51
        },
        "outputId": "c57f1740-02cd-4242-dc6e-23a9350769d1"
      },
      "source": [
        "filename = input(\"Enter file name: \")\n",
        "\n",
        "try:\n",
        "    f = open(filename, \"r\")\n",
        "\n",
        "    for line in f:\n",
        "        print(line, end=\"\")\n",
        "\n",
        "    f.close()\n",
        "\n",
        "except FileNotFoundError:\n",
        "    print(\"File not found\")\n",
        "\n",
        "except PermissionError:\n",
        "    print(\"You don't have the permission to read the file\")\n",
        "\n",
        "except:\n",
        "    print(\"Unexpected error while reading the file\")"
      ],
      "execution_count": 1,
      "outputs": [
        {
          "output_type": "stream",
          "text": [
            "Enter file name: karan.md\n",
            "File not found\n"
          ],
          "name": "stdout"
        }
      ]
    }
  ]
}