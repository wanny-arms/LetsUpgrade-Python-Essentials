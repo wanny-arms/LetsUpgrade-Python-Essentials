{
  "nbformat": 4,
  "nbformat_minor": 0,
  "metadata": {
    "colab": {
      "name": "Untitled6.ipynb",
      "provenance": [],
      "authorship_tag": "ABX9TyNM60PRj+/Aja4SZof4RI3i",
      "include_colab_link": true
    },
    "kernelspec": {
      "name": "python3",
      "display_name": "Python 3"
    }
  },
  "cells": [
    {
      "cell_type": "markdown",
      "metadata": {
        "id": "view-in-github",
        "colab_type": "text"
      },
      "source": [
        "<a href=\"https://colab.research.google.com/github/wanny-arms/LetsUpgrade-Python-Essentials/blob/master/day9assignment.ipynb\" target=\"_parent\"><img src=\"https://colab.research.google.com/assets/colab-badge.svg\" alt=\"Open In Colab\"/></a>"
      ]
    },
    {
      "cell_type": "markdown",
      "metadata": {
        "id": "_w8MTn-uIzOg",
        "colab_type": "text"
      },
      "source": [
        "**Question 1:**\n",
        "Write a python Function for finding is a given number prime or not and do Unit Testing on it using\n",
        "PyLint and Unittest Library."
      ]
    },
    {
      "cell_type": "code",
      "metadata": {
        "id": "IM3MdNkjPlVA",
        "colab_type": "code",
        "colab": {
          "base_uri": "https://localhost:8080/",
          "height": 34
        },
        "outputId": "a84d9b87-eea2-4faf-c0f3-dd0399a75f9d"
      },
      "source": [
        "%%writefile testprime.py\n",
        "class primecheck:\n",
        " x = 9\n",
        "   def primeornot(n):\n",
        "     if (n>1):\n",
        "        for x in range(2,n):\n",
        "            if(n % x==0):\n",
        "                print(n,\" is not prime number\")\n",
        "                break\n",
        "            else:       \n",
        "              print(n,\" is a prime number\")\n",
        "              break  \n",
        "import unittest\n",
        "\n",
        "\n",
        "class Testing(unittest.TestCase):\n",
        "    def testprimenumber(self):\n",
        "        x = 17\n",
        "        result = primecheck.primeornot(x)\n",
        "        self.assertEqual(x,result)\n",
        "\n",
        "if __name__ == '__main__':\n",
        "    unittest.main()\n"
      ],
      "execution_count": 61,
      "outputs": [
        {
          "output_type": "stream",
          "text": [
            "Overwriting testprime.py\n"
          ],
          "name": "stdout"
        }
      ]
    },
    {
      "cell_type": "code",
      "metadata": {
        "id": "RFrFmEyM2Tyt",
        "colab_type": "code",
        "colab": {
          "base_uri": "https://localhost:8080/",
          "height": 85
        },
        "outputId": "070a6b06-d61e-4c5d-e32c-452197a2adef"
      },
      "source": [
        "! python testprime.py"
      ],
      "execution_count": 62,
      "outputs": [
        {
          "output_type": "stream",
          "text": [
            "  File \"testprime.py\", line 3\n",
            "    def primeornot(n):\n",
            "    ^\n",
            "IndentationError: unexpected indent\n"
          ],
          "name": "stdout"
        }
      ]
    },
    {
      "cell_type": "markdown",
      "metadata": {
        "id": "Jx59fkHIIeWq",
        "colab_type": "text"
      },
      "source": [
        "**Question 2:**\n",
        "Make a small generator program for returning armstrong numbers in between 1-1000 in a\n",
        "generator object."
      ]
    },
    {
      "cell_type": "code",
      "metadata": {
        "id": "F8IADs5dIrs9",
        "colab_type": "code",
        "colab": {
          "base_uri": "https://localhost:8080/",
          "height": 102
        },
        "outputId": "80e59835-2063-4684-e2bb-96ac238f40fd"
      },
      "source": [
        "for num in range(1,1000):\n",
        "  temp=num\n",
        "  sum=0\n",
        "  while temp>0:\n",
        "    digit=temp%10\n",
        "    sum=sum+digit**3\n",
        "    temp=temp//10\n",
        "\n",
        "  if sum==num:\n",
        "    print (num)"
      ],
      "execution_count": 64,
      "outputs": [
        {
          "output_type": "stream",
          "text": [
            "1\n",
            "153\n",
            "370\n",
            "371\n",
            "407\n"
          ],
          "name": "stdout"
        }
      ]
    }
  ]
}