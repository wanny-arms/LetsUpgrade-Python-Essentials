{
  "nbformat": 4,
  "nbformat_minor": 0,
  "metadata": {
    "colab": {
      "name": "Untitled",
      "provenance": [],
      "collapsed_sections": [],
      "authorship_tag": "ABX9TyMjsWnUJHz9v6sqL3O2UsUH",
      "include_colab_link": true
    },
    "kernelspec": {
      "name": "python3",
      "display_name": "Python 3"
    }
  },
  "cells": [
    {
      "cell_type": "markdown",
      "metadata": {
        "id": "view-in-github",
        "colab_type": "text"
      },
      "source": [
        "<a href=\"https://colab.research.google.com/github/wanny-arms/LetsUpgrade-Python-Essentials/blob/master/day2assignment.ipynb\" target=\"_parent\"><img src=\"https://colab.research.google.com/assets/colab-badge.svg\" alt=\"Open In Colab\"/></a>"
      ]
    },
    {
      "cell_type": "markdown",
      "metadata": {
        "id": "6BYpDOtnJ9hN",
        "colab_type": "text"
      },
      "source": [
        "**Questions 1: List and its default functions.**\n",
        "\n",
        "**Answer:**"
      ]
    },
    {
      "cell_type": "code",
      "metadata": {
        "id": "DOZ-3ouEFJmk",
        "colab_type": "code",
        "colab": {}
      },
      "source": [
        "lst = ['karan',2872092,'student',20]"
      ],
      "execution_count": null,
      "outputs": []
    },
    {
      "cell_type": "code",
      "metadata": {
        "id": "jG_UW3E_N3Cb",
        "colab_type": "code",
        "colab": {
          "base_uri": "https://localhost:8080/",
          "height": 34
        },
        "outputId": "f5a500e9-c2b0-421c-e65b-4d621b1666c8"
      },
      "source": [
        "lst"
      ],
      "execution_count": null,
      "outputs": [
        {
          "output_type": "execute_result",
          "data": {
            "text/plain": [
              "['karan', 2872092, 'student', 20]"
            ]
          },
          "metadata": {
            "tags": []
          },
          "execution_count": 2
        }
      ]
    },
    {
      "cell_type": "markdown",
      "metadata": {
        "id": "_3sMoSWrP7wz",
        "colab_type": "text"
      },
      "source": [
        "1. Index():"
      ]
    },
    {
      "cell_type": "code",
      "metadata": {
        "id": "b21VIOK2RrjV",
        "colab_type": "code",
        "colab": {
          "base_uri": "https://localhost:8080/",
          "height": 34
        },
        "outputId": "a3ad1137-d89e-4b60-bfa2-a04a0632568a"
      },
      "source": [
        "lst.index(20)"
      ],
      "execution_count": null,
      "outputs": [
        {
          "output_type": "execute_result",
          "data": {
            "text/plain": [
              "3"
            ]
          },
          "metadata": {
            "tags": []
          },
          "execution_count": 3
        }
      ]
    },
    {
      "cell_type": "code",
      "metadata": {
        "id": "hxV0AQRwR6-t",
        "colab_type": "code",
        "colab": {
          "base_uri": "https://localhost:8080/",
          "height": 34
        },
        "outputId": "577dfbe8-eb67-40b7-ccbd-43b9d3023fac"
      },
      "source": [
        "lst[1]"
      ],
      "execution_count": null,
      "outputs": [
        {
          "output_type": "execute_result",
          "data": {
            "text/plain": [
              "2872092"
            ]
          },
          "metadata": {
            "tags": []
          },
          "execution_count": 4
        }
      ]
    },
    {
      "cell_type": "markdown",
      "metadata": {
        "id": "cTqItvksSDvy",
        "colab_type": "text"
      },
      "source": [
        "2. Append():"
      ]
    },
    {
      "cell_type": "code",
      "metadata": {
        "id": "b5imcQkIS850",
        "colab_type": "code",
        "colab": {
          "base_uri": "https://localhost:8080/"
        },
        "outputId": "928253f2-6070-4e31-b8df-3edf1fc678b5"
      },
      "source": [
        "lst.append('programmer')\n",
        "print(lst)"
      ],
      "execution_count": null,
      "outputs": [
        {
          "output_type": "stream",
          "text": [
            "['karan', 2872092, 'student', 20, 'programmer']\n"
          ],
          "name": "stdout"
        }
      ]
    },
    {
      "cell_type": "code",
      "metadata": {
        "id": "2jqD_rYvdyYG",
        "colab_type": "code",
        "colab": {
          "base_uri": "https://localhost:8080/",
          "height": 34
        },
        "outputId": "db769ad7-673e-4ec1-d183-73f83c1f93a6"
      },
      "source": [
        "lst.append('student')\n",
        "print(lst)"
      ],
      "execution_count": null,
      "outputs": [
        {
          "output_type": "stream",
          "text": [
            "['karan', 2872092, 'student', 20, 'programmer', 'student']\n"
          ],
          "name": "stdout"
        }
      ]
    },
    {
      "cell_type": "markdown",
      "metadata": {
        "id": "BqpVHUSudJdy",
        "colab_type": "text"
      },
      "source": [
        "3. Count():"
      ]
    },
    {
      "cell_type": "code",
      "metadata": {
        "id": "hCkc5OiKdWU2",
        "colab_type": "code",
        "colab": {
          "base_uri": "https://localhost:8080/",
          "height": 34
        },
        "outputId": "7c22fd27-4cb4-4c6a-ceb2-68fae4350672"
      },
      "source": [
        "lst.count('student')"
      ],
      "execution_count": null,
      "outputs": [
        {
          "output_type": "execute_result",
          "data": {
            "text/plain": [
              "2"
            ]
          },
          "metadata": {
            "tags": []
          },
          "execution_count": 7
        }
      ]
    },
    {
      "cell_type": "markdown",
      "metadata": {
        "id": "lw7DJQjbeJle",
        "colab_type": "text"
      },
      "source": [
        "4.  Remove():"
      ]
    },
    {
      "cell_type": "code",
      "metadata": {
        "id": "Bu-W7noOea9k",
        "colab_type": "code",
        "colab": {}
      },
      "source": [
        "lst.remove('student')"
      ],
      "execution_count": null,
      "outputs": []
    },
    {
      "cell_type": "code",
      "metadata": {
        "id": "YfGq32Jhe2W0",
        "colab_type": "code",
        "colab": {
          "base_uri": "https://localhost:8080/",
          "height": 34
        },
        "outputId": "c721fe7c-1486-4744-f208-1b334fcb786a"
      },
      "source": [
        "print(lst)"
      ],
      "execution_count": null,
      "outputs": [
        {
          "output_type": "stream",
          "text": [
            "['karan', 2872092, 20, 'programmer', 'student']\n"
          ],
          "name": "stdout"
        }
      ]
    },
    {
      "cell_type": "markdown",
      "metadata": {
        "id": "4Gy5x5FSe_Or",
        "colab_type": "text"
      },
      "source": [
        "5. Reverse():"
      ]
    },
    {
      "cell_type": "code",
      "metadata": {
        "id": "du5bYcdhfT1l",
        "colab_type": "code",
        "colab": {}
      },
      "source": [
        "lst.reverse()"
      ],
      "execution_count": null,
      "outputs": []
    },
    {
      "cell_type": "code",
      "metadata": {
        "id": "C_-X7FQ4fa-A",
        "colab_type": "code",
        "colab": {
          "base_uri": "https://localhost:8080/",
          "height": 34
        },
        "outputId": "ac2d927a-ee3d-4e50-fa6e-526255a464ab"
      },
      "source": [
        "print(lst)"
      ],
      "execution_count": null,
      "outputs": [
        {
          "output_type": "stream",
          "text": [
            "['student', 'programmer', 20, 2872092, 'karan']\n"
          ],
          "name": "stdout"
        }
      ]
    },
    {
      "cell_type": "markdown",
      "metadata": {
        "id": "Roz60WwzKM28",
        "colab_type": "text"
      },
      "source": [
        "**Questions 2: Dictionary and its default functions.**\n",
        "\n",
        "**Answer:**"
      ]
    },
    {
      "cell_type": "code",
      "metadata": {
        "id": "lr1hladjKRQv",
        "colab_type": "code",
        "colab": {}
      },
      "source": [
        "dit = {\"name\":\"Karan\", \"age\":\"20\",\n",
        "       \"number\":64234653,\"email\":\"karan18-bca@sanskar.in\"}"
      ],
      "execution_count": null,
      "outputs": []
    },
    {
      "cell_type": "code",
      "metadata": {
        "id": "FEkk0cxJgzfe",
        "colab_type": "code",
        "colab": {
          "base_uri": "https://localhost:8080/",
          "height": 85
        },
        "outputId": "198d9749-2edf-44f1-bfdb-57d60c758867"
      },
      "source": [
        "dit"
      ],
      "execution_count": null,
      "outputs": [
        {
          "output_type": "execute_result",
          "data": {
            "text/plain": [
              "{'age': '20',\n",
              " 'email': 'karan18-bca@sanskar.in',\n",
              " 'name': 'Karan',\n",
              " 'number': 64234653}"
            ]
          },
          "metadata": {
            "tags": []
          },
          "execution_count": 13
        }
      ]
    },
    {
      "cell_type": "markdown",
      "metadata": {
        "id": "hrx6bgjnhCi6",
        "colab_type": "text"
      },
      "source": [
        "1. Get():"
      ]
    },
    {
      "cell_type": "code",
      "metadata": {
        "id": "T7obzbixhwyV",
        "colab_type": "code",
        "colab": {
          "base_uri": "https://localhost:8080/",
          "height": 35
        },
        "outputId": "2ec7294a-3bc6-4020-82d0-ae00b0b52685"
      },
      "source": [
        "dit.get('name')"
      ],
      "execution_count": null,
      "outputs": [
        {
          "output_type": "execute_result",
          "data": {
            "application/vnd.google.colaboratory.intrinsic+json": {
              "type": "string"
            },
            "text/plain": [
              "'Karan'"
            ]
          },
          "metadata": {
            "tags": []
          },
          "execution_count": 14
        }
      ]
    },
    {
      "cell_type": "markdown",
      "metadata": {
        "id": "sAaiOHaph7jV",
        "colab_type": "text"
      },
      "source": [
        "2. Items():"
      ]
    },
    {
      "cell_type": "code",
      "metadata": {
        "id": "Rf6xRP32ibhY",
        "colab_type": "code",
        "colab": {
          "base_uri": "https://localhost:8080/",
          "height": 34
        },
        "outputId": "1031befb-71ea-4d43-b3f5-94a813853145"
      },
      "source": [
        "dit.items()"
      ],
      "execution_count": null,
      "outputs": [
        {
          "output_type": "execute_result",
          "data": {
            "text/plain": [
              "dict_items([('name', 'Karan'), ('age', '20'), ('number', 64234653), ('email', 'karan18-bca@sanskar.in')])"
            ]
          },
          "metadata": {
            "tags": []
          },
          "execution_count": 15
        }
      ]
    },
    {
      "cell_type": "markdown",
      "metadata": {
        "id": "Tk_uA2UaikMe",
        "colab_type": "text"
      },
      "source": [
        "3. Keys"
      ]
    },
    {
      "cell_type": "code",
      "metadata": {
        "id": "ygzHprpzipQJ",
        "colab_type": "code",
        "colab": {
          "base_uri": "https://localhost:8080/",
          "height": 34
        },
        "outputId": "76ba7c78-ae40-4ffc-8b80-2412f6cde944"
      },
      "source": [
        "dit.keys()"
      ],
      "execution_count": null,
      "outputs": [
        {
          "output_type": "execute_result",
          "data": {
            "text/plain": [
              "dict_keys(['name', 'age', 'number', 'email'])"
            ]
          },
          "metadata": {
            "tags": []
          },
          "execution_count": 16
        }
      ]
    },
    {
      "cell_type": "markdown",
      "metadata": {
        "id": "ic3Vcws1iwG9",
        "colab_type": "text"
      },
      "source": [
        "4. pop():"
      ]
    },
    {
      "cell_type": "code",
      "metadata": {
        "id": "zOXm0S5xi9Vf",
        "colab_type": "code",
        "colab": {
          "base_uri": "https://localhost:8080/",
          "height": 35
        },
        "outputId": "f09c7cad-f5cd-42b4-dc01-31690b2714a3"
      },
      "source": [
        "dit.pop(\"age\")"
      ],
      "execution_count": null,
      "outputs": [
        {
          "output_type": "execute_result",
          "data": {
            "application/vnd.google.colaboratory.intrinsic+json": {
              "type": "string"
            },
            "text/plain": [
              "'20'"
            ]
          },
          "metadata": {
            "tags": []
          },
          "execution_count": 17
        }
      ]
    },
    {
      "cell_type": "code",
      "metadata": {
        "id": "mj_yBLhwjIwc",
        "colab_type": "code",
        "colab": {
          "base_uri": "https://localhost:8080/",
          "height": 34
        },
        "outputId": "4ea46140-80fe-427d-af95-009c34ac0b20"
      },
      "source": [
        "dit"
      ],
      "execution_count": null,
      "outputs": [
        {
          "output_type": "execute_result",
          "data": {
            "text/plain": [
              "{'email': 'karan18-bca@sanskar.in', 'name': 'Karan', 'number': 64234653}"
            ]
          },
          "metadata": {
            "tags": []
          },
          "execution_count": 18
        }
      ]
    },
    {
      "cell_type": "markdown",
      "metadata": {
        "id": "qsbx0VR5jVpu",
        "colab_type": "text"
      },
      "source": [
        "5. Adding:"
      ]
    },
    {
      "cell_type": "code",
      "metadata": {
        "id": "Uh_ZyQmfjdlJ",
        "colab_type": "code",
        "colab": {}
      },
      "source": [
        "dit[\"School\"] = \"DAV public school\""
      ],
      "execution_count": null,
      "outputs": []
    },
    {
      "cell_type": "code",
      "metadata": {
        "id": "TnYAne95jrpr",
        "colab_type": "code",
        "colab": {
          "base_uri": "https://localhost:8080/",
          "height": 85
        },
        "outputId": "7fbc98e1-9b63-49d7-ec1b-663e3f968d4b"
      },
      "source": [
        "dit"
      ],
      "execution_count": null,
      "outputs": [
        {
          "output_type": "execute_result",
          "data": {
            "text/plain": [
              "{'School': 'DAV public school',\n",
              " 'email': 'karan18-bca@sanskar.in',\n",
              " 'name': 'Karan',\n",
              " 'number': 64234653}"
            ]
          },
          "metadata": {
            "tags": []
          },
          "execution_count": 21
        }
      ]
    },
    {
      "cell_type": "markdown",
      "metadata": {
        "id": "cCPNNDfqKR9v",
        "colab_type": "text"
      },
      "source": [
        "**Questions 3: Sets and its default functions.**\n",
        "\n",
        "**Answer:**"
      ]
    },
    {
      "cell_type": "code",
      "metadata": {
        "id": "h5817t-NEsn4",
        "colab_type": "code",
        "colab": {}
      },
      "source": [
        "myset = set([\"a\", \"b\", \"c\"]) "
      ],
      "execution_count": null,
      "outputs": []
    },
    {
      "cell_type": "code",
      "metadata": {
        "id": "U6Fj0rlJE8cz",
        "colab_type": "code",
        "colab": {
          "base_uri": "https://localhost:8080/",
          "height": 34
        },
        "outputId": "5ee9696e-a9ab-4a3d-a66b-e1db37dd50b4"
      },
      "source": [
        "print(myset)"
      ],
      "execution_count": null,
      "outputs": [
        {
          "output_type": "stream",
          "text": [
            "{'a', 'c', 'b'}\n"
          ],
          "name": "stdout"
        }
      ]
    },
    {
      "cell_type": "markdown",
      "metadata": {
        "id": "M4MblD9tGEef",
        "colab_type": "text"
      },
      "source": [
        "1. add():"
      ]
    },
    {
      "cell_type": "code",
      "metadata": {
        "id": "4D_g9K1IGOm-",
        "colab_type": "code",
        "colab": {}
      },
      "source": [
        "myset.add(\"d\")"
      ],
      "execution_count": null,
      "outputs": []
    },
    {
      "cell_type": "code",
      "metadata": {
        "id": "cPqzFSIFGXqK",
        "colab_type": "code",
        "colab": {
          "base_uri": "https://localhost:8080/",
          "height": 34
        },
        "outputId": "dffe368e-5135-4057-f2d1-146609d0f3f4"
      },
      "source": [
        "print(myset)"
      ],
      "execution_count": null,
      "outputs": [
        {
          "output_type": "stream",
          "text": [
            "{'a', 'c', 'd', 'b'}\n"
          ],
          "name": "stdout"
        }
      ]
    },
    {
      "cell_type": "markdown",
      "metadata": {
        "id": "QOt9YfrtIfq2",
        "colab_type": "text"
      },
      "source": [
        "2. Union"
      ]
    },
    {
      "cell_type": "code",
      "metadata": {
        "id": "AiNjS_9lIm_P",
        "colab_type": "code",
        "colab": {}
      },
      "source": [
        "people = {\"Jay\", \"Idrish\", \"Archil\"} \n",
        "vampires = {\"Karan\", \"Arjun\"} \n",
        "dracula = {\"Deepanshu\", \"Raju\"} "
      ],
      "execution_count": null,
      "outputs": []
    },
    {
      "cell_type": "code",
      "metadata": {
        "id": "JYaVpH9XVYGb",
        "colab_type": "code",
        "colab": {
          "base_uri": "https://localhost:8080/",
          "height": 51
        },
        "outputId": "c443cae0-1583-4d2f-d577-67f2c85b1d3a"
      },
      "source": [
        "population = people.union(vampires) \n",
        "  \n",
        "print(\"Union using union() function\") \n",
        "print(population) "
      ],
      "execution_count": null,
      "outputs": [
        {
          "output_type": "stream",
          "text": [
            "Union using union() function\n",
            "{'Archil', 'Jay', 'Karan', 'Arjun', 'Idrish'}\n"
          ],
          "name": "stdout"
        }
      ]
    },
    {
      "cell_type": "code",
      "metadata": {
        "id": "fgUhQiQ5VhSt",
        "colab_type": "code",
        "colab": {
          "base_uri": "https://localhost:8080/",
          "height": 51
        },
        "outputId": "74ebf1f2-5cf9-49fc-f27d-a958f0a5e2be"
      },
      "source": [
        "population = people|dracula \n",
        "  \n",
        "print(\"Union using '|' operator\") \n",
        "print(population) "
      ],
      "execution_count": null,
      "outputs": [
        {
          "output_type": "stream",
          "text": [
            "Union using '|' operator\n",
            "{'Archil', 'Jay', 'Raju', 'Idrish', 'Deepanshu'}\n"
          ],
          "name": "stdout"
        }
      ]
    },
    {
      "cell_type": "markdown",
      "metadata": {
        "id": "m2mPoDKQVqbl",
        "colab_type": "text"
      },
      "source": [
        "3. Intersection:"
      ]
    },
    {
      "cell_type": "code",
      "metadata": {
        "id": "knguJvlQWhFA",
        "colab_type": "code",
        "colab": {
          "base_uri": "https://localhost:8080/",
          "height": 102
        },
        "outputId": "d322a6c7-b6b0-4995-f795-c3539bfa2172"
      },
      "source": [
        "set1 = set() \n",
        "set2 = set() \n",
        "  \n",
        "for i in range(5): \n",
        "    set1.add(i) \n",
        "  \n",
        "for i in range(3,9): \n",
        "    set2.add(i) \n",
        "  \n",
        "# Intersection using \n",
        "# intersection() function \n",
        "set3 = set1.intersection(set2) \n",
        "  \n",
        "print(\"Intersection using intersection() function\") \n",
        "print(set3) \n",
        "  \n",
        "# Intersection using  \n",
        "# \"&\" operator \n",
        "set3 = set1 & set2 \n",
        "  \n",
        "print(\"\\nIntersection using '&' operator\") \n",
        "print(set3) "
      ],
      "execution_count": null,
      "outputs": [
        {
          "output_type": "stream",
          "text": [
            "Intersection using intersection() function\n",
            "{3, 4}\n",
            "\n",
            "Intersection using '&' operator\n",
            "{3, 4}\n"
          ],
          "name": "stdout"
        }
      ]
    },
    {
      "cell_type": "markdown",
      "metadata": {
        "id": "QajIMDPnWwTp",
        "colab_type": "text"
      },
      "source": [
        "4. Difference:"
      ]
    },
    {
      "cell_type": "code",
      "metadata": {
        "id": "OMmAiF2QW4v4",
        "colab_type": "code",
        "colab": {
          "base_uri": "https://localhost:8080/",
          "height": 102
        },
        "outputId": "c40858ff-c13a-4b62-b7bb-44fad06c9c6e"
      },
      "source": [
        "set1 = set() \n",
        "set2 = set() \n",
        "  \n",
        "for i in range(5): \n",
        "    set1.add(i) \n",
        "  \n",
        "for i in range(3,9): \n",
        "    set2.add(i) \n",
        "  \n",
        "# Difference of two sets \n",
        "# using difference() function \n",
        "set3 = set1.difference(set2) \n",
        "  \n",
        "print(\" Difference of two sets using difference() function\") \n",
        "print(set3) \n",
        "  \n",
        "# Difference of two sets \n",
        "# using '-' operator \n",
        "set3 = set1 - set2 \n",
        "  \n",
        "print(\"\\nDifference of two sets using '-' operator\") \n",
        "print(set3) "
      ],
      "execution_count": null,
      "outputs": [
        {
          "output_type": "stream",
          "text": [
            " Difference of two sets using difference() function\n",
            "{0, 1, 2}\n",
            "\n",
            "Difference of two sets using '-' operator\n",
            "{0, 1, 2}\n"
          ],
          "name": "stdout"
        }
      ]
    },
    {
      "cell_type": "markdown",
      "metadata": {
        "id": "e-tpenhYXLnE",
        "colab_type": "text"
      },
      "source": [
        "5. Clearing sets:"
      ]
    },
    {
      "cell_type": "code",
      "metadata": {
        "id": "RxNHTgYzXSEM",
        "colab_type": "code",
        "colab": {
          "base_uri": "https://localhost:8080/",
          "height": 102
        },
        "outputId": "f727ee42-5a8e-4ab3-f95d-ca28a496bb95"
      },
      "source": [
        "set1 = {1,2,3,4,5,6} \n",
        "  \n",
        "print(\"Initial set\") \n",
        "print(set1) \n",
        "  \n",
        "# This method will remove \n",
        "# all the elements of the set \n",
        "set1.clear() \n",
        "  \n",
        "print(\"\\nSet after using clear() function\") \n",
        "print(set1) "
      ],
      "execution_count": null,
      "outputs": [
        {
          "output_type": "stream",
          "text": [
            "Initial set\n",
            "{1, 2, 3, 4, 5, 6}\n",
            "\n",
            "Set after using clear() function\n",
            "set()\n"
          ],
          "name": "stdout"
        }
      ]
    },
    {
      "cell_type": "markdown",
      "metadata": {
        "id": "oK0mOKQeKZyT",
        "colab_type": "text"
      },
      "source": [
        "**Questions 4: Tuple and explore default methods.**\n",
        "\n",
        "**Answer:**"
      ]
    },
    {
      "cell_type": "code",
      "metadata": {
        "id": "eMs0A7BoKa_g",
        "colab_type": "code",
        "colab": {}
      },
      "source": [
        "tup = (\"karan\",\"20\",\"student\",\"karandhawan189@gmail.com\")"
      ],
      "execution_count": null,
      "outputs": []
    },
    {
      "cell_type": "code",
      "metadata": {
        "id": "OYTBro5BaPBX",
        "colab_type": "code",
        "colab": {
          "base_uri": "https://localhost:8080/",
          "height": 34
        },
        "outputId": "3432ee6a-9070-471b-efb4-d1f48d876a7e"
      },
      "source": [
        "tup"
      ],
      "execution_count": null,
      "outputs": [
        {
          "output_type": "execute_result",
          "data": {
            "text/plain": [
              "('karan', '20', 'student', 'karandhawan189@gmail.com')"
            ]
          },
          "metadata": {
            "tags": []
          },
          "execution_count": 14
        }
      ]
    },
    {
      "cell_type": "markdown",
      "metadata": {
        "id": "a8DRhpOFY8ni",
        "colab_type": "text"
      },
      "source": [
        "1. Count:"
      ]
    },
    {
      "cell_type": "code",
      "metadata": {
        "id": "00hTuhFHZDGL",
        "colab_type": "code",
        "colab": {
          "base_uri": "https://localhost:8080/",
          "height": 34
        },
        "outputId": "7f959376-54e5-4b50-b299-1270bdd16fcb"
      },
      "source": [
        "tup.count(\"20\")"
      ],
      "execution_count": null,
      "outputs": [
        {
          "output_type": "execute_result",
          "data": {
            "text/plain": [
              "1"
            ]
          },
          "metadata": {
            "tags": []
          },
          "execution_count": 13
        }
      ]
    },
    {
      "cell_type": "markdown",
      "metadata": {
        "id": "AsTxeS7WaKsg",
        "colab_type": "text"
      },
      "source": [
        "2. Index()"
      ]
    },
    {
      "cell_type": "code",
      "metadata": {
        "id": "Bpgc6tLWZC43",
        "colab_type": "code",
        "colab": {
          "base_uri": "https://localhost:8080/",
          "height": 34
        },
        "outputId": "03b62cbb-aba6-42e5-dd4d-9319ef159a7c"
      },
      "source": [
        "tup.index(\"karandhawan189@gmail.com\")"
      ],
      "execution_count": null,
      "outputs": [
        {
          "output_type": "execute_result",
          "data": {
            "text/plain": [
              "3"
            ]
          },
          "metadata": {
            "tags": []
          },
          "execution_count": 16
        }
      ]
    },
    {
      "cell_type": "markdown",
      "metadata": {
        "id": "OJ1DYCrlc9RT",
        "colab_type": "text"
      },
      "source": [
        "3. max(): \treturn maximum element of given tuple"
      ]
    },
    {
      "cell_type": "code",
      "metadata": {
        "id": "R67eyMngdBOA",
        "colab_type": "code",
        "colab": {
          "base_uri": "https://localhost:8080/",
          "height": 34
        },
        "outputId": "d4fd6239-f307-45be-d9c3-983b64d7015c"
      },
      "source": [
        "print(max(tup))"
      ],
      "execution_count": null,
      "outputs": [
        {
          "output_type": "stream",
          "text": [
            "student\n"
          ],
          "name": "stdout"
        }
      ]
    },
    {
      "cell_type": "markdown",
      "metadata": {
        "id": "WpPl0sxMePhZ",
        "colab_type": "text"
      },
      "source": [
        "4. min():return minimum element of given tuple"
      ]
    },
    {
      "cell_type": "code",
      "metadata": {
        "id": "-ZI_zqcaeXLG",
        "colab_type": "code",
        "colab": {
          "base_uri": "https://localhost:8080/",
          "height": 34
        },
        "outputId": "550f7348-877a-4291-d450-721d9c30038b"
      },
      "source": [
        "print(min(tup))"
      ],
      "execution_count": null,
      "outputs": [
        {
          "output_type": "stream",
          "text": [
            "20\n"
          ],
          "name": "stdout"
        }
      ]
    },
    {
      "cell_type": "markdown",
      "metadata": {
        "id": "7Pbkpe7ceoMP",
        "colab_type": "text"
      },
      "source": [
        "5. len():Returns length of the tuple or size of the tuple"
      ]
    },
    {
      "cell_type": "code",
      "metadata": {
        "id": "umLmSFI4gY5-",
        "colab_type": "code",
        "colab": {
          "base_uri": "https://localhost:8080/",
          "height": 34
        },
        "outputId": "55190833-88eb-4984-d325-27257583dc79"
      },
      "source": [
        "print(len(tup))"
      ],
      "execution_count": null,
      "outputs": [
        {
          "output_type": "stream",
          "text": [
            "4\n"
          ],
          "name": "stdout"
        }
      ]
    },
    {
      "cell_type": "markdown",
      "metadata": {
        "id": "njOs4o2bKbd9",
        "colab_type": "text"
      },
      "source": [
        "**Questions 5: Strings and explore default methods.**\n",
        "\n",
        "**Answer:**"
      ]
    },
    {
      "cell_type": "code",
      "metadata": {
        "id": "s2tKu33WKe46",
        "colab_type": "code",
        "colab": {}
      },
      "source": [
        "str=[5,2,1,6,7]"
      ],
      "execution_count": null,
      "outputs": []
    },
    {
      "cell_type": "markdown",
      "metadata": {
        "id": "3L5F_hR5i-G0",
        "colab_type": "text"
      },
      "source": [
        "1.max():"
      ]
    },
    {
      "cell_type": "code",
      "metadata": {
        "id": "lWcsd2w-i7Nu",
        "colab_type": "code",
        "colab": {
          "base_uri": "https://localhost:8080/",
          "height": 34
        },
        "outputId": "f6691584-9c31-41b3-b61c-e11e9de99f8b"
      },
      "source": [
        "print(max(str))"
      ],
      "execution_count": null,
      "outputs": [
        {
          "output_type": "stream",
          "text": [
            "7\n"
          ],
          "name": "stdout"
        }
      ]
    },
    {
      "cell_type": "markdown",
      "metadata": {
        "id": "AS3lJnrPjRHQ",
        "colab_type": "text"
      },
      "source": [
        "2. min():"
      ]
    },
    {
      "cell_type": "code",
      "metadata": {
        "id": "qRd_NnIojTxQ",
        "colab_type": "code",
        "colab": {
          "base_uri": "https://localhost:8080/",
          "height": 34
        },
        "outputId": "23c37717-47c8-4ba8-fd17-dd665452a312"
      },
      "source": [
        "print(min(str))"
      ],
      "execution_count": null,
      "outputs": [
        {
          "output_type": "stream",
          "text": [
            "1\n"
          ],
          "name": "stdout"
        }
      ]
    },
    {
      "cell_type": "markdown",
      "metadata": {
        "id": "INVQM5_wjb8x",
        "colab_type": "text"
      },
      "source": [
        "3. round():"
      ]
    },
    {
      "cell_type": "code",
      "metadata": {
        "id": "pFVmmBbKjn-h",
        "colab_type": "code",
        "colab": {
          "base_uri": "https://localhost:8080/",
          "height": 34
        },
        "outputId": "98334653-225c-4aac-a8f8-717a4ecc009f"
      },
      "source": [
        "print(round(5.679))"
      ],
      "execution_count": null,
      "outputs": [
        {
          "output_type": "stream",
          "text": [
            "6\n"
          ],
          "name": "stdout"
        }
      ]
    },
    {
      "cell_type": "markdown",
      "metadata": {
        "id": "_atZ9UF9j90B",
        "colab_type": "text"
      },
      "source": [
        "4. len():"
      ]
    },
    {
      "cell_type": "code",
      "metadata": {
        "id": "06N59mGKkPCg",
        "colab_type": "code",
        "colab": {
          "base_uri": "https://localhost:8080/",
          "height": 34
        },
        "outputId": "53ed1135-a3ee-416b-c989-85ee823d0603"
      },
      "source": [
        "print(len(str))"
      ],
      "execution_count": null,
      "outputs": [
        {
          "output_type": "stream",
          "text": [
            "5\n"
          ],
          "name": "stdout"
        }
      ]
    },
    {
      "cell_type": "markdown",
      "metadata": {
        "id": "5JH5mpTfkWqW",
        "colab_type": "text"
      },
      "source": [
        "5.replace():"
      ]
    },
    {
      "cell_type": "code",
      "metadata": {
        "id": "UnuBGOWbkxhM",
        "colab_type": "code",
        "colab": {}
      },
      "source": [
        "str1=\"my java program\""
      ],
      "execution_count": null,
      "outputs": []
    },
    {
      "cell_type": "code",
      "metadata": {
        "id": "Dg6ezFFrk-QL",
        "colab_type": "code",
        "colab": {
          "base_uri": "https://localhost:8080/"
        },
        "outputId": "2e848014-cbc0-470a-8bbb-b6e3c7f6862f"
      },
      "source": [
        "str1"
      ],
      "execution_count": null,
      "outputs": [
        {
          "output_type": "execute_result",
          "data": {
            "application/vnd.google.colaboratory.intrinsic+json": {
              "type": "string"
            },
            "text/plain": [
              "'my java program'"
            ]
          },
          "metadata": {
            "tags": []
          },
          "execution_count": 37
        }
      ]
    },
    {
      "cell_type": "code",
      "metadata": {
        "id": "Vt3e7RumlH85",
        "colab_type": "code",
        "colab": {
          "base_uri": "https://localhost:8080/"
        },
        "outputId": "c40a82bd-1ce3-4781-b0c5-e7b1da71b0ee"
      },
      "source": [
        "str1.replace(\"java\",\"python\")"
      ],
      "execution_count": null,
      "outputs": [
        {
          "output_type": "execute_result",
          "data": {
            "application/vnd.google.colaboratory.intrinsic+json": {
              "type": "string"
            },
            "text/plain": [
              "'my python program'"
            ]
          },
          "metadata": {
            "tags": []
          },
          "execution_count": 38
        }
      ]
    }
  ]
}